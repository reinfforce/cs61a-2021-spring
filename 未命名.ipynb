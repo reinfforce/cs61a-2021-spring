{
 "cells": [
  {
   "cell_type": "code",
   "execution_count": 1,
   "id": "52fb520c",
   "metadata": {},
   "outputs": [],
   "source": [
    "def cake():\n",
    "    print('beets')\n",
    "    def pie():\n",
    "        print('sweets')\n",
    "        return 'cake'\n",
    "    return pie"
   ]
  },
  {
   "cell_type": "code",
   "execution_count": 2,
   "id": "6a5d3ab5",
   "metadata": {},
   "outputs": [
    {
     "name": "stdout",
     "output_type": "stream",
     "text": [
      "beets\n"
     ]
    }
   ],
   "source": [
    "chocolate = cake()"
   ]
  },
  {
   "cell_type": "code",
   "execution_count": 3,
   "id": "d656e1d5",
   "metadata": {},
   "outputs": [
    {
     "data": {
      "text/plain": [
       "<function __main__.cake.<locals>.pie()>"
      ]
     },
     "execution_count": 3,
     "metadata": {},
     "output_type": "execute_result"
    }
   ],
   "source": [
    "chocolate"
   ]
  },
  {
   "cell_type": "code",
   "execution_count": 4,
   "id": "acfee8f2",
   "metadata": {},
   "outputs": [
    {
     "name": "stdout",
     "output_type": "stream",
     "text": [
      "sweets\n"
     ]
    },
    {
     "data": {
      "text/plain": [
       "'cake'"
      ]
     },
     "execution_count": 4,
     "metadata": {},
     "output_type": "execute_result"
    }
   ],
   "source": [
    "chocolate()"
   ]
  },
  {
   "cell_type": "code",
   "execution_count": 5,
   "id": "bc4584d1",
   "metadata": {},
   "outputs": [
    {
     "name": "stdout",
     "output_type": "stream",
     "text": [
      "sweets\n"
     ]
    }
   ],
   "source": [
    "more_chocolate, more_cake = chocolate(), cake"
   ]
  },
  {
   "cell_type": "code",
   "execution_count": 6,
   "id": "fc40a3d7",
   "metadata": {},
   "outputs": [
    {
     "data": {
      "text/plain": [
       "'cake'"
      ]
     },
     "execution_count": 6,
     "metadata": {},
     "output_type": "execute_result"
    }
   ],
   "source": [
    "more_chocolate"
   ]
  },
  {
   "cell_type": "code",
   "execution_count": 7,
   "id": "d112de95",
   "metadata": {},
   "outputs": [
    {
     "data": {
      "text/plain": [
       "str"
      ]
     },
     "execution_count": 7,
     "metadata": {},
     "output_type": "execute_result"
    }
   ],
   "source": [
    "type(more_chocolate)"
   ]
  },
  {
   "cell_type": "code",
   "execution_count": 8,
   "id": "aaa650f6",
   "metadata": {},
   "outputs": [
    {
     "data": {
      "text/plain": [
       "<function __main__.cake()>"
      ]
     },
     "execution_count": 8,
     "metadata": {},
     "output_type": "execute_result"
    }
   ],
   "source": [
    "more_cake"
   ]
  },
  {
   "cell_type": "code",
   "execution_count": 9,
   "id": "14428636",
   "metadata": {},
   "outputs": [
    {
     "data": {
      "text/plain": [
       "<function __main__.cake()>"
      ]
     },
     "execution_count": 9,
     "metadata": {},
     "output_type": "execute_result"
    }
   ],
   "source": [
    "cake"
   ]
  },
  {
   "cell_type": "code",
   "execution_count": 10,
   "id": "39ec4107",
   "metadata": {},
   "outputs": [
    {
     "data": {
      "text/plain": [
       "<function __main__.cake.<locals>.pie()>"
      ]
     },
     "execution_count": 10,
     "metadata": {},
     "output_type": "execute_result"
    }
   ],
   "source": [
    "chocolate"
   ]
  },
  {
   "cell_type": "code",
   "execution_count": 11,
   "id": "2298f66b",
   "metadata": {},
   "outputs": [],
   "source": [
    "def snake(x,y):\n",
    "    if cake == more_cake:\n",
    "        return chocolate\n",
    "    else:\n",
    "        return x+y"
   ]
  },
  {
   "cell_type": "code",
   "execution_count": 12,
   "id": "80424701",
   "metadata": {},
   "outputs": [
    {
     "data": {
      "text/plain": [
       "<function __main__.cake.<locals>.pie()>"
      ]
     },
     "execution_count": 12,
     "metadata": {},
     "output_type": "execute_result"
    }
   ],
   "source": [
    "snake(10,20)"
   ]
  },
  {
   "cell_type": "code",
   "execution_count": 13,
   "id": "9c00fe11",
   "metadata": {},
   "outputs": [
    {
     "name": "stdout",
     "output_type": "stream",
     "text": [
      "sweets\n"
     ]
    },
    {
     "data": {
      "text/plain": [
       "'cake'"
      ]
     },
     "execution_count": 13,
     "metadata": {},
     "output_type": "execute_result"
    }
   ],
   "source": [
    "snake(10,20)()"
   ]
  },
  {
   "cell_type": "code",
   "execution_count": 14,
   "id": "a3ed5438",
   "metadata": {},
   "outputs": [],
   "source": [
    "cake = 'cake'"
   ]
  },
  {
   "cell_type": "code",
   "execution_count": 15,
   "id": "d2e0d502",
   "metadata": {},
   "outputs": [
    {
     "data": {
      "text/plain": [
       "<function __main__.cake()>"
      ]
     },
     "execution_count": 15,
     "metadata": {},
     "output_type": "execute_result"
    }
   ],
   "source": [
    "more_cake"
   ]
  },
  {
   "cell_type": "code",
   "execution_count": 16,
   "id": "84c30d25",
   "metadata": {},
   "outputs": [
    {
     "data": {
      "text/plain": [
       "1"
      ]
     },
     "execution_count": 16,
     "metadata": {},
     "output_type": "execute_result"
    }
   ],
   "source": [
    "len(str('0'))"
   ]
  },
  {
   "cell_type": "code",
   "execution_count": 1,
   "id": "65a9f6d2",
   "metadata": {},
   "outputs": [],
   "source": [
    "def digit_fn(digit):\n",
    "    \"\"\"Return the corresponding function for the given DIGIT.\n",
    "\n",
    "    value:  The value which this function starts at.\n",
    "    \"\"\"\n",
    "    # Error if DIGIT is not one of: 0, 1, 2, 3, 4, 5, 6, 7, 8, 9\n",
    "    assert isinstance(digit, int) and 0 <= digit < 10\n",
    "    # List of pre-defined functions\n",
    "    f0 = lambda value: value + 1\n",
    "    f1 = lambda value: value ** 2\n",
    "    f2 = lambda value: value * 3\n",
    "    f3 = lambda value: value // 4\n",
    "    f4 = lambda value: value - 5\n",
    "    f5 = lambda value: value % 6\n",
    "    f6 = lambda value: int((value % 7) * 8)\n",
    "    f7 = lambda value: int(value * 8.8)\n",
    "    f8 = lambda value: int(value / 99 * 15) + 10\n",
    "    f9 = lambda value: value\n",
    "    # Mapping from digit to function\n",
    "    if digit == 0:\n",
    "        return f0\n",
    "    elif digit == 1:\n",
    "        return f1\n",
    "    elif digit == 2:\n",
    "        return f2\n",
    "    elif digit == 3:\n",
    "        return f3\n",
    "    elif digit == 4:\n",
    "        return f4\n",
    "    elif digit == 5:\n",
    "        return f5\n",
    "    elif digit == 6:\n",
    "        return f6\n",
    "    elif digit == 7:\n",
    "        return f7\n",
    "    elif digit == 8:\n",
    "        return f8\n",
    "    elif digit == 9:\n",
    "        return f9"
   ]
  },
  {
   "cell_type": "code",
   "execution_count": 15,
   "id": "219a009c",
   "metadata": {},
   "outputs": [],
   "source": [
    "f0 = lambda value: value + 1\n",
    "f1 = lambda value: value ** 2\n",
    "f2 = lambda value: value * 3\n",
    "f3 = lambda value: value // 4\n",
    "f4 = lambda value: value - 5\n",
    "f5 = lambda value: value % 6\n",
    "f6 = lambda value: int((value % 7) * 8)\n",
    "f7 = lambda value: int(value * 8.8)\n",
    "f8 = lambda value: int(value / 99 * 15) + 10\n",
    "f9 = lambda value: value"
   ]
  },
  {
   "cell_type": "code",
   "execution_count": 18,
   "id": "532c202d",
   "metadata": {},
   "outputs": [
    {
     "data": {
      "text/plain": [
       "9"
      ]
     },
     "execution_count": 18,
     "metadata": {},
     "output_type": "execute_result"
    }
   ],
   "source": [
    "f1(f2(f3(5)))"
   ]
  },
  {
   "cell_type": "code",
   "execution_count": 2,
   "id": "6f4946f4",
   "metadata": {},
   "outputs": [],
   "source": [
    "total = digit_fn(5)(33)"
   ]
  },
  {
   "cell_type": "code",
   "execution_count": 21,
   "id": "5eaf922c",
   "metadata": {},
   "outputs": [
    {
     "data": {
      "text/plain": [
       "20"
      ]
     },
     "execution_count": 21,
     "metadata": {},
     "output_type": "execute_result"
    }
   ],
   "source": [
    "f8(f0(71)) % 30"
   ]
  },
  {
   "cell_type": "code",
   "execution_count": 3,
   "id": "d8bc8879",
   "metadata": {},
   "outputs": [
    {
     "data": {
      "text/plain": [
       "3"
      ]
     },
     "execution_count": 3,
     "metadata": {},
     "output_type": "execute_result"
    }
   ],
   "source": [
    "total"
   ]
  },
  {
   "cell_type": "code",
   "execution_count": 4,
   "id": "b88091ca",
   "metadata": {},
   "outputs": [
    {
     "data": {
      "text/plain": [
       "12"
      ]
     },
     "execution_count": 4,
     "metadata": {},
     "output_type": "execute_result"
    }
   ],
   "source": [
    "123 // 10"
   ]
  },
  {
   "cell_type": "code",
   "execution_count": 5,
   "id": "666d97f3",
   "metadata": {},
   "outputs": [
    {
     "data": {
      "text/plain": [
       "1"
      ]
     },
     "execution_count": 5,
     "metadata": {},
     "output_type": "execute_result"
    }
   ],
   "source": [
    "12 // 10"
   ]
  },
  {
   "cell_type": "code",
   "execution_count": 6,
   "id": "ad8367f9",
   "metadata": {},
   "outputs": [
    {
     "data": {
      "text/plain": [
       "0"
      ]
     },
     "execution_count": 6,
     "metadata": {},
     "output_type": "execute_result"
    }
   ],
   "source": [
    "1 // 10"
   ]
  },
  {
   "cell_type": "code",
   "execution_count": 7,
   "id": "65ed2afa",
   "metadata": {},
   "outputs": [
    {
     "data": {
      "text/plain": [
       "[0, 1]"
      ]
     },
     "execution_count": 7,
     "metadata": {},
     "output_type": "execute_result"
    }
   ],
   "source": [
    "list(range(2))"
   ]
  },
  {
   "cell_type": "code",
   "execution_count": 9,
   "id": "ebf2b80f",
   "metadata": {},
   "outputs": [],
   "source": [
    "def roll_dice(num_rolls):\n",
    "    \"\"\"Simulate rolling the DICE exactly NUM_ROLLS > 0 times. Return the sum of\n",
    "    the outcomes unless any of the outcomes is 1. In that case, return 1.\n",
    "\n",
    "    num_rolls:  The number of dice rolls that will be made.\n",
    "    dice:       A function that simulates a single dice roll outcome.\n",
    "    \"\"\"\n",
    "    # These assert statements ensure that num_rolls is a positive integer.\n",
    "    assert type(num_rolls) == int, 'num_rolls must be an integer.'\n",
    "    assert num_rolls > 0, 'Must roll at least once.'\n",
    "    # BEGIN PROBLEM 1\n",
    "    points_in_roll = []\n",
    "    for i in range(num_rolls):\n",
    "        points = dice()\n",
    "        points_in_roll.append(points)\n",
    "    if 1 in points_in_roll:\n",
    "        return 1\n",
    "    else:\n",
    "        return sum(points_in_roll)"
   ]
  },
  {
   "cell_type": "code",
   "execution_count": 10,
   "id": "a997aefe",
   "metadata": {},
   "outputs": [
    {
     "ename": "NameError",
     "evalue": "name 'dice' is not defined",
     "output_type": "error",
     "traceback": [
      "\u001b[0;31m---------------------------------------------------------------------------\u001b[0m",
      "\u001b[0;31mNameError\u001b[0m                                 Traceback (most recent call last)",
      "\u001b[0;32m/var/folders/4j/ry7_scw962q90x2629f31m2m0000gn/T/ipykernel_8757/1658233368.py\u001b[0m in \u001b[0;36m<module>\u001b[0;34m\u001b[0m\n\u001b[0;32m----> 1\u001b[0;31m \u001b[0mroll_dice\u001b[0m\u001b[0;34m(\u001b[0m\u001b[0;36m2\u001b[0m\u001b[0;34m)\u001b[0m\u001b[0;34m\u001b[0m\u001b[0;34m\u001b[0m\u001b[0m\n\u001b[0m",
      "\u001b[0;32m/var/folders/4j/ry7_scw962q90x2629f31m2m0000gn/T/ipykernel_8757/1903677128.py\u001b[0m in \u001b[0;36mroll_dice\u001b[0;34m(num_rolls)\u001b[0m\n\u001b[1;32m     12\u001b[0m     \u001b[0mpoints_in_roll\u001b[0m \u001b[0;34m=\u001b[0m \u001b[0;34m[\u001b[0m\u001b[0;34m]\u001b[0m\u001b[0;34m\u001b[0m\u001b[0;34m\u001b[0m\u001b[0m\n\u001b[1;32m     13\u001b[0m     \u001b[0;32mfor\u001b[0m \u001b[0mi\u001b[0m \u001b[0;32min\u001b[0m \u001b[0mrange\u001b[0m\u001b[0;34m(\u001b[0m\u001b[0mnum_rolls\u001b[0m\u001b[0;34m)\u001b[0m\u001b[0;34m:\u001b[0m\u001b[0;34m\u001b[0m\u001b[0;34m\u001b[0m\u001b[0m\n\u001b[0;32m---> 14\u001b[0;31m         \u001b[0mpoints\u001b[0m \u001b[0;34m=\u001b[0m \u001b[0mdice\u001b[0m\u001b[0;34m(\u001b[0m\u001b[0;34m)\u001b[0m\u001b[0;34m\u001b[0m\u001b[0;34m\u001b[0m\u001b[0m\n\u001b[0m\u001b[1;32m     15\u001b[0m         \u001b[0mpoints_in_roll\u001b[0m\u001b[0;34m.\u001b[0m\u001b[0mappend\u001b[0m\u001b[0;34m(\u001b[0m\u001b[0mpoints\u001b[0m\u001b[0;34m)\u001b[0m\u001b[0;34m\u001b[0m\u001b[0;34m\u001b[0m\u001b[0m\n\u001b[1;32m     16\u001b[0m     \u001b[0;32mif\u001b[0m \u001b[0;36m1\u001b[0m \u001b[0;32min\u001b[0m \u001b[0mpoints_in_roll\u001b[0m\u001b[0;34m:\u001b[0m\u001b[0;34m\u001b[0m\u001b[0;34m\u001b[0m\u001b[0m\n",
      "\u001b[0;31mNameError\u001b[0m: name 'dice' is not defined"
     ]
    }
   ],
   "source": [
    "roll_dice(2)"
   ]
  },
  {
   "cell_type": "code",
   "execution_count": 22,
   "id": "47bbdb7a",
   "metadata": {},
   "outputs": [],
   "source": [
    "message = 'Player ' + str(1) + ' takes the lead by ' + str(abs(5 -1))"
   ]
  },
  {
   "cell_type": "code",
   "execution_count": 23,
   "id": "3f7ff63e",
   "metadata": {},
   "outputs": [
    {
     "name": "stdout",
     "output_type": "stream",
     "text": [
      "Player 1 takes the lead by 4\n"
     ]
    }
   ],
   "source": [
    "print(message)"
   ]
  },
  {
   "cell_type": "code",
   "execution_count": 34,
   "id": "75b6886e",
   "metadata": {},
   "outputs": [],
   "source": [
    "from random import randint\n",
    "\n",
    "GOAL_SCORE = 100\n",
    "\n",
    "def make_fair_dice(sides):\n",
    "    def dice():\n",
    "        return randint(1, sides)\n",
    "    return dice\n",
    "\n",
    "four_sided = make_fair_dice(4)\n",
    "six_sided = make_fair_dice(6)\n",
    "\n",
    "def make_test_dice(*outcomes):\n",
    "    assert len(outcomes) > 0, 'You must supply outcomes to make_test_dice'\n",
    "    for o in outcomes:\n",
    "        assert type(o) == int and o >= 1, 'Outcome is not a positive integer'\n",
    "    index = len(outcomes) - 1\n",
    "\n",
    "    def dice():\n",
    "        nonlocal index\n",
    "        index = (index + 1) % len(outcomes)\n",
    "        return outcomes[index]\n",
    "    return dice\n",
    "    \n",
    "def roll_dice(num_rolls, dice=six_sided):\n",
    "    total_points = 0\n",
    "    record1 = False\n",
    "    while num_rolls:\n",
    "        scoreindice = dice()\n",
    "        if scoreindice == 1:\n",
    "            record1 = True\n",
    "        total_points += scoreindice\n",
    "        num_rolls -= 1\n",
    "    if record1:\n",
    "        return 1\n",
    "    else:\n",
    "        return total_points\n",
    "\n",
    "def digit_fn(digit):\n",
    "    f0 = lambda value: value + 1\n",
    "    f1 = lambda value: value ** 2\n",
    "    f2 = lambda value: value * 3\n",
    "    f3 = lambda value: value // 4\n",
    "    f4 = lambda value: value - 5\n",
    "    f5 = lambda value: value % 6\n",
    "    f6 = lambda value: int((value % 7) * 8)\n",
    "    f7 = lambda value: int(value * 8.8)\n",
    "    f8 = lambda value: int(value / 99 * 15) + 10\n",
    "    f9 = lambda value: value\n",
    "    # Mapping from digit to function\n",
    "    if digit == 0:\n",
    "        return f0\n",
    "    elif digit == 1:\n",
    "        return f1\n",
    "    elif digit == 2:\n",
    "        return f2\n",
    "    elif digit == 3:\n",
    "        return f3\n",
    "    elif digit == 4:\n",
    "        return f4\n",
    "    elif digit == 5:\n",
    "        return f5\n",
    "    elif digit == 6:\n",
    "        return f6\n",
    "    elif digit == 7:\n",
    "        return f7\n",
    "    elif digit == 8:\n",
    "        return f8\n",
    "    elif digit == 9:\n",
    "        return f9\n",
    "\n",
    "\n",
    "def hefty_hogs(player_score, opponent_score):\n",
    "    point_gain = 0\n",
    "    if opponent_score == 0:\n",
    "        point_gain = 1\n",
    "    else:\n",
    "        total = player_score\n",
    "        while opponent_score > 0:\n",
    "            opponent_digit = opponent_score % 10\n",
    "            total = digit_fn(opponent_digit)(total)\n",
    "            opponent_score //= 10\n",
    "        total = total % 30\n",
    "        point_gain = total\n",
    "    return point_gain\n",
    "    # END PROBLEM 2\n",
    "\n",
    "\n",
    "def take_turn(num_rolls, player_score, opponent_score, dice=six_sided, goal=GOAL_SCORE):\n",
    "    if num_rolls == 0:\n",
    "        return hefty_hogs(player_score,opponent_score)\n",
    "    else:\n",
    "        return roll_dice(num_rolls,dice)\n",
    "    # END PROBLEM 3\n",
    "\n",
    "\n",
    "def hog_pile(player_score, opponent_score):\n",
    "    # BEGIN PROBLEM 4\n",
    "    if (player_score % 10) == (opponent_score % 10):\n",
    "        return player_score % 10\n",
    "    else:\n",
    "        return 0\n",
    "    # END PROBLEM 4\n",
    "\n",
    "\n",
    "def next_player(who):\n",
    "    return 1 - who\n",
    "\n",
    "\n",
    "def silence(score0, score1, leader=None):\n",
    "    \"\"\"Announce nothing (see Phase 2).\"\"\"\n",
    "    return leader, \"\"\n",
    "\n",
    "\n",
    "def play(strategy0, strategy1, score0=0, score1=0, dice=six_sided,\n",
    "         goal=GOAL_SCORE, say=silence):\n",
    "    who = 0  # Who is about to take a turn, 0 (first) or 1 (second)\n",
    "    leader = None  # To be used in problem 7\n",
    "    # BEGIN PROBLEM 5\n",
    "    while score0 < goal and score1 < goal:\n",
    "        if not who:\n",
    "            score0 += take_turn(strategy0(score0,score1), score0, score1, dice, goal)\n",
    "            score0 += hog_pile(score0, score1)   \n",
    "        else:\n",
    "            score1 += take_turn(strategy1(score1,score0), score1, score0, dice, goal)\n",
    "            score1 += hog_pile(score1,score0)\n",
    "        who = next_player(who)\n",
    "    # END PROBLEM 5\n",
    "    # (note that the indentation for the problem 7 prompt (***YOUR CODE HERE***) might be misleading)\n",
    "    # BEGIN PROBLEM 7\n",
    "    \"*** YOUR CODE HERE ***\"\n",
    "    # END PROBLEM 7\n",
    "    return score0, score1\n",
    "\n",
    "def say_scores(score0, score1, player=None):\n",
    "    \"\"\"A commentary function that announces the score for each player.\"\"\"\n",
    "    message = f\"Player 0 now has {score0} and now Player 1 has {score1}\"\n",
    "    return player, message\n",
    "\n",
    "\n",
    "def announce_lead_changes(score0, score1, last_leader=None):\n",
    "    leader = 0\n",
    "    if score0 < score1:\n",
    "        leader = 1\n",
    "    elif score0 > score1:\n",
    "        leader = 0\n",
    "    else:\n",
    "        leader = None\n",
    "    \n",
    "    if last_leader == leader or leader == None:\n",
    "        message = None\n",
    "    else:\n",
    "        message = 'Player ' + str(leader) + ' takes the lead by ' + str(abs(score0 - score1))\n",
    "    return leader, message\n",
    "\n",
    "def echo(s0,s1,player = None):\n",
    "    return player, f\"{s0} {s1}\"\n",
    "\n",
    "def always_roll(n):\n",
    "    \"\"\"Return a strategy that always rolls N dice.\n",
    "\n",
    "    A strategy is a function that takes two total scores as arguments (the\n",
    "    current player's score, and the opponent's score), and returns a number of\n",
    "    dice that the current player will roll this turn.\n",
    "\n",
    "    >>> strategy = always_roll(5)\n",
    "    >>> strategy(0, 0)\n",
    "    5\n",
    "    >>> strategy(99, 99)\n",
    "    5\n",
    "    \"\"\"\n",
    "    def strategy(score, opponent_score):\n",
    "        return n\n",
    "    return strategy\n",
    "    \n",
    "s0, s1 = play(always_roll(1), always_roll(1), dice=make_test_dice(3), goal=5, say=echo)\n"
   ]
  },
  {
   "cell_type": "code",
   "execution_count": 35,
   "id": "71d771ae",
   "metadata": {},
   "outputs": [],
   "source": [
    "def count(n):\n",
    "    def say(s0,s1, curr_count = None):\n",
    "        if curr_count is None:\n",
    "            curr_count = n\n",
    "        return curr_count + 1, str(curr_count) +' '+ str(s0)\n",
    "    return say"
   ]
  },
  {
   "cell_type": "code",
   "execution_count": 43,
   "id": "06106e98",
   "metadata": {},
   "outputs": [],
   "source": [
    "def both(f, g):\n",
    "    \"\"\"A commentary function that says what f says, then what g says.\n",
    "\n",
    "    >>> say_both = both(say_scores, announce_lead_changes)\n",
    "    >>> player, message = say_both(10, 0)\n",
    "    >>> print(message)\n",
    "    Player 0 now has 10 and now Player 1 has 0\n",
    "    Player 0 takes the lead by 10\n",
    "    >>> player, message = say_both(10, 8, player)\n",
    "    >>> print(message)\n",
    "    Player 0 now has 10 and now Player 1 has 8\n",
    "    >>> player, message = say_both(10, 17, player)\n",
    "    >>> print(message)\n",
    "    Player 0 now has 10 and now Player 1 has 17\n",
    "    Player 1 takes the lead by 7\n",
    "    \"\"\"\n",
    "    def say(score0, score1, player=None):\n",
    "        f_player, f_message = f(score0, score1, player)\n",
    "        g_player, g_message = g(score0, score1, player)\n",
    "        if f_message and g_message:\n",
    "            return g_player, f_message + \"\\n\" + g_message\n",
    "        else:\n",
    "            return g_player, f_message or g_message\n",
    "    return say\n"
   ]
  },
  {
   "cell_type": "code",
   "execution_count": 44,
   "id": "fb8da146",
   "metadata": {},
   "outputs": [],
   "source": [
    "def echo_0(s0, s1, player=None):\n",
    "    return player, f\"* {s0}\" # message of the form: \"* s0\"\n",
    "def echo_1(s0, s1, player=None):\n",
    "    return player, f\"** {s1}\" # message of the form: \"** s1\""
   ]
  },
  {
   "cell_type": "code",
   "execution_count": 45,
   "id": "8bffe350",
   "metadata": {},
   "outputs": [],
   "source": [
    "s0, s1 = play(always_roll(1), always_roll(1), dice=make_test_dice(2), goal=5, say=both(echo_0, echo_1))"
   ]
  },
  {
   "cell_type": "code",
   "execution_count": 46,
   "id": "073248e2",
   "metadata": {},
   "outputs": [
    {
     "data": {
      "text/plain": [
       "8"
      ]
     },
     "execution_count": 46,
     "metadata": {},
     "output_type": "execute_result"
    }
   ],
   "source": [
    "s0"
   ]
  },
  {
   "cell_type": "code",
   "execution_count": 47,
   "id": "554a2ca6",
   "metadata": {},
   "outputs": [
    {
     "data": {
      "text/plain": [
       "4"
      ]
     },
     "execution_count": 47,
     "metadata": {},
     "output_type": "execute_result"
    }
   ],
   "source": [
    "s1"
   ]
  },
  {
   "cell_type": "code",
   "execution_count": 48,
   "id": "74e61226",
   "metadata": {},
   "outputs": [
    {
     "data": {
      "text/plain": [
       "0"
      ]
     },
     "execution_count": 48,
     "metadata": {},
     "output_type": "execute_result"
    }
   ],
   "source": [
    "80 % 10"
   ]
  },
  {
   "cell_type": "code",
   "execution_count": 49,
   "id": "c01d20f0",
   "metadata": {},
   "outputs": [
    {
     "data": {
      "text/plain": [
       "20"
      ]
     },
     "execution_count": 49,
     "metadata": {},
     "output_type": "execute_result"
    }
   ],
   "source": [
    "f8(f0(71))"
   ]
  },
  {
   "cell_type": "code",
   "execution_count": 50,
   "id": "58fb57c0",
   "metadata": {},
   "outputs": [
    {
     "data": {
      "text/plain": [
       "20"
      ]
     },
     "execution_count": 50,
     "metadata": {},
     "output_type": "execute_result"
    }
   ],
   "source": [
    "20 % 30"
   ]
  },
  {
   "cell_type": "code",
   "execution_count": 51,
   "id": "cff9549d",
   "metadata": {},
   "outputs": [
    {
     "data": {
      "text/plain": [
       "144"
      ]
     },
     "execution_count": 51,
     "metadata": {},
     "output_type": "execute_result"
    }
   ],
   "source": [
    "f1(f2(4)) "
   ]
  },
  {
   "cell_type": "code",
   "execution_count": 52,
   "id": "2cdebbc1",
   "metadata": {},
   "outputs": [
    {
     "data": {
      "text/plain": [
       "24"
      ]
     },
     "execution_count": 52,
     "metadata": {},
     "output_type": "execute_result"
    }
   ],
   "source": [
    "144 % 30"
   ]
  },
  {
   "cell_type": "code",
   "execution_count": 53,
   "id": "d2be0361",
   "metadata": {},
   "outputs": [
    {
     "data": {
      "text/plain": [
       "2"
      ]
     },
     "execution_count": 53,
     "metadata": {},
     "output_type": "execute_result"
    }
   ],
   "source": [
    "f3(9)"
   ]
  },
  {
   "cell_type": "code",
   "execution_count": 54,
   "id": "47e6938b",
   "metadata": {},
   "outputs": [
    {
     "data": {
      "text/plain": [
       "2"
      ]
     },
     "execution_count": 54,
     "metadata": {},
     "output_type": "execute_result"
    }
   ],
   "source": [
    "2 % 30"
   ]
  },
  {
   "cell_type": "code",
   "execution_count": 55,
   "id": "3b41d7d7",
   "metadata": {},
   "outputs": [
    {
     "data": {
      "text/plain": [
       "36"
      ]
     },
     "execution_count": 55,
     "metadata": {},
     "output_type": "execute_result"
    }
   ],
   "source": [
    "f1(6)"
   ]
  },
  {
   "cell_type": "code",
   "execution_count": 56,
   "id": "8247aa25",
   "metadata": {},
   "outputs": [
    {
     "data": {
      "text/plain": [
       "6"
      ]
     },
     "execution_count": 56,
     "metadata": {},
     "output_type": "execute_result"
    }
   ],
   "source": [
    "36 % 30"
   ]
  },
  {
   "cell_type": "code",
   "execution_count": 57,
   "id": "02f55937",
   "metadata": {},
   "outputs": [
    {
     "data": {
      "text/plain": [
       "33"
      ]
     },
     "execution_count": 57,
     "metadata": {},
     "output_type": "execute_result"
    }
   ],
   "source": [
    "f0(32)"
   ]
  },
  {
   "cell_type": "code",
   "execution_count": 58,
   "id": "89f3a327",
   "metadata": {},
   "outputs": [
    {
     "data": {
      "text/plain": [
       "3"
      ]
     },
     "execution_count": 58,
     "metadata": {},
     "output_type": "execute_result"
    }
   ],
   "source": [
    "33 % 30"
   ]
  },
  {
   "cell_type": "code",
   "execution_count": 59,
   "id": "20f1f46e",
   "metadata": {},
   "outputs": [
    {
     "data": {
      "text/plain": [
       "21"
      ]
     },
     "execution_count": 59,
     "metadata": {},
     "output_type": "execute_result"
    }
   ],
   "source": [
    "f0(20)"
   ]
  },
  {
   "cell_type": "code",
   "execution_count": 60,
   "id": "b1b13b56",
   "metadata": {},
   "outputs": [
    {
     "data": {
      "text/plain": [
       "21"
      ]
     },
     "execution_count": 60,
     "metadata": {},
     "output_type": "execute_result"
    }
   ],
   "source": [
    "21 % 30"
   ]
  },
  {
   "cell_type": "code",
   "execution_count": 61,
   "id": "e8d0bf2c",
   "metadata": {},
   "outputs": [
    {
     "data": {
      "text/plain": [
       "9"
      ]
     },
     "execution_count": 61,
     "metadata": {},
     "output_type": "execute_result"
    }
   ],
   "source": [
    "f1(f0(2))"
   ]
  },
  {
   "cell_type": "code",
   "execution_count": 62,
   "id": "b4e6767b",
   "metadata": {},
   "outputs": [
    {
     "data": {
      "text/plain": [
       "1"
      ]
     },
     "execution_count": 62,
     "metadata": {},
     "output_type": "execute_result"
    }
   ],
   "source": [
    "f5(f4(30))"
   ]
  },
  {
   "cell_type": "code",
   "execution_count": 63,
   "id": "d59b04c6",
   "metadata": {},
   "outputs": [
    {
     "data": {
      "text/plain": [
       "15"
      ]
     },
     "execution_count": 63,
     "metadata": {},
     "output_type": "execute_result"
    }
   ],
   "source": [
    "f3(f2(20))"
   ]
  },
  {
   "cell_type": "code",
   "execution_count": 64,
   "id": "5729049e",
   "metadata": {},
   "outputs": [
    {
     "data": {
      "text/plain": [
       "15"
      ]
     },
     "execution_count": 64,
     "metadata": {},
     "output_type": "execute_result"
    }
   ],
   "source": [
    "15 % 30"
   ]
  },
  {
   "cell_type": "code",
   "execution_count": 65,
   "id": "5ff38a18",
   "metadata": {},
   "outputs": [
    {
     "data": {
      "text/plain": [
       "0"
      ]
     },
     "execution_count": 65,
     "metadata": {},
     "output_type": "execute_result"
    }
   ],
   "source": [
    "f5(24)"
   ]
  },
  {
   "cell_type": "code",
   "execution_count": 66,
   "id": "b9363224",
   "metadata": {},
   "outputs": [
    {
     "data": {
      "text/plain": [
       "0"
      ]
     },
     "execution_count": 66,
     "metadata": {},
     "output_type": "execute_result"
    }
   ],
   "source": [
    "0 % 30"
   ]
  },
  {
   "cell_type": "code",
   "execution_count": 67,
   "id": "43a0e97b",
   "metadata": {},
   "outputs": [
    {
     "data": {
      "text/plain": [
       "29"
      ]
     },
     "execution_count": 67,
     "metadata": {},
     "output_type": "execute_result"
    }
   ],
   "source": [
    "-1 % 30"
   ]
  },
  {
   "cell_type": "code",
   "execution_count": 68,
   "id": "3667e3ed",
   "metadata": {},
   "outputs": [
    {
     "data": {
      "text/plain": [
       "0"
      ]
     },
     "execution_count": 68,
     "metadata": {},
     "output_type": "execute_result"
    }
   ],
   "source": [
    "-30 % 30"
   ]
  },
  {
   "cell_type": "code",
   "execution_count": 69,
   "id": "9f32a99d",
   "metadata": {},
   "outputs": [
    {
     "data": {
      "text/plain": [
       "27"
      ]
     },
     "execution_count": 69,
     "metadata": {},
     "output_type": "execute_result"
    }
   ],
   "source": [
    "-33 % 30"
   ]
  },
  {
   "cell_type": "code",
   "execution_count": null,
   "id": "6e9fa29e",
   "metadata": {},
   "outputs": [],
   "source": [
    "a=qd+r且0 ≤ r < d\n",
    "q为商，r为余数"
   ]
  },
  {
   "cell_type": "code",
   "execution_count": 70,
   "id": "413c9288",
   "metadata": {},
   "outputs": [
    {
     "data": {
      "text/plain": [
       "1"
      ]
     },
     "execution_count": 70,
     "metadata": {},
     "output_type": "execute_result"
    }
   ],
   "source": [
    "f3(f5(64))"
   ]
  },
  {
   "cell_type": "code",
   "execution_count": 71,
   "id": "044a5c6a",
   "metadata": {},
   "outputs": [
    {
     "data": {
      "text/plain": [
       "1"
      ]
     },
     "execution_count": 71,
     "metadata": {},
     "output_type": "execute_result"
    }
   ],
   "source": [
    "1 % 30"
   ]
  },
  {
   "cell_type": "code",
   "execution_count": 72,
   "id": "6bea86c1",
   "metadata": {},
   "outputs": [
    {
     "data": {
      "text/plain": [
       "4"
      ]
     },
     "execution_count": 72,
     "metadata": {},
     "output_type": "execute_result"
    }
   ],
   "source": [
    "f5(64)"
   ]
  },
  {
   "cell_type": "code",
   "execution_count": 73,
   "id": "865b96a9",
   "metadata": {},
   "outputs": [
    {
     "data": {
      "text/plain": [
       "1"
      ]
     },
     "execution_count": 73,
     "metadata": {},
     "output_type": "execute_result"
    }
   ],
   "source": [
    "f3(4)"
   ]
  },
  {
   "cell_type": "code",
   "execution_count": 74,
   "id": "8e476c4c",
   "metadata": {},
   "outputs": [
    {
     "data": {
      "text/plain": [
       "0"
      ]
     },
     "execution_count": 74,
     "metadata": {},
     "output_type": "execute_result"
    }
   ],
   "source": [
    "f6(f0(20))"
   ]
  },
  {
   "cell_type": "code",
   "execution_count": 75,
   "id": "3103315d",
   "metadata": {},
   "outputs": [
    {
     "data": {
      "text/plain": [
       "0"
      ]
     },
     "execution_count": 75,
     "metadata": {},
     "output_type": "execute_result"
    }
   ],
   "source": [
    "40 % 10"
   ]
  },
  {
   "cell_type": "code",
   "execution_count": 76,
   "id": "29c65ef6",
   "metadata": {},
   "outputs": [
    {
     "data": {
      "text/plain": [
       "0"
      ]
     },
     "execution_count": 76,
     "metadata": {},
     "output_type": "execute_result"
    }
   ],
   "source": [
    "30 % 10"
   ]
  },
  {
   "cell_type": "code",
   "execution_count": null,
   "id": "faa8b368",
   "metadata": {},
   "outputs": [],
   "source": []
  }
 ],
 "metadata": {
  "kernelspec": {
   "display_name": "Python 3 (ipykernel)",
   "language": "python",
   "name": "python3"
  },
  "language_info": {
   "codemirror_mode": {
    "name": "ipython",
    "version": 3
   },
   "file_extension": ".py",
   "mimetype": "text/x-python",
   "name": "python",
   "nbconvert_exporter": "python",
   "pygments_lexer": "ipython3",
   "version": "3.8.12"
  },
  "toc": {
   "base_numbering": 1,
   "nav_menu": {},
   "number_sections": true,
   "sideBar": true,
   "skip_h1_title": false,
   "title_cell": "Table of Contents",
   "title_sidebar": "Contents",
   "toc_cell": false,
   "toc_position": {},
   "toc_section_display": true,
   "toc_window_display": false
  }
 },
 "nbformat": 4,
 "nbformat_minor": 5
}
